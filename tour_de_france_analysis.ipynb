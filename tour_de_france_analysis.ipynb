{
 "cells": [
  {
   "cell_type": "code",
   "execution_count": 28,
   "id": "2b5cdc52",
   "metadata": {},
   "outputs": [],
   "source": [
    "import pandas as pd\n",
    "import numpy as np\n",
    "import matplotlib.pyplot as plt"
   ]
  },
  {
   "cell_type": "markdown",
   "id": "1550a9e0",
   "metadata": {},
   "source": [
    "The first Tour de France started in 1903, with 110 editions as of 2023 (this notebook contains data up until 2018). As an avid cyclist, this statistic-intensive sport makes this dataset quite enjoyable to work with. I will split this analysis into multiple parts.\n",
    "\n",
    "- **Part 1: Data Exploration:** this project contains three main datasets:\n",
    "  1. Historical data: winners for each editions, the pace, distance, etc.\n",
    "  2. Location data for each stage\n",
    "  3. Stage-specific data\n",
    "- **Part 2: Data Visualizations**\n",
    "- **Part 3: Basic Statistics**\n",
    "- **Part 4: Machine Learning**"
   ]
  },
  {
   "cell_type": "markdown",
   "id": "ab8bed1e",
   "metadata": {},
   "source": [
    "# Part 1 - Data Exploration"
   ]
  },
  {
   "cell_type": "markdown",
   "id": "5190e930",
   "metadata": {},
   "source": [
    "## Dataset 1 - Historical TDF guide "
   ]
  },
  {
   "cell_type": "code",
   "execution_count": 4,
   "id": "dc91c25b",
   "metadata": {},
   "outputs": [
    {
     "data": {
      "text/html": [
       "<div>\n",
       "<style scoped>\n",
       "    .dataframe tbody tr th:only-of-type {\n",
       "        vertical-align: middle;\n",
       "    }\n",
       "\n",
       "    .dataframe tbody tr th {\n",
       "        vertical-align: top;\n",
       "    }\n",
       "\n",
       "    .dataframe thead th {\n",
       "        text-align: right;\n",
       "    }\n",
       "</style>\n",
       "<table border=\"1\" class=\"dataframe\">\n",
       "  <thead>\n",
       "    <tr style=\"text-align: right;\">\n",
       "      <th></th>\n",
       "      <th>42</th>\n",
       "      <th>59</th>\n",
       "      <th>81</th>\n",
       "      <th>78</th>\n",
       "      <th>96</th>\n",
       "    </tr>\n",
       "  </thead>\n",
       "  <tbody>\n",
       "    <tr>\n",
       "      <th>Year</th>\n",
       "      <td>1956</td>\n",
       "      <td>1973</td>\n",
       "      <td>1995</td>\n",
       "      <td>1992</td>\n",
       "      <td>2010</td>\n",
       "    </tr>\n",
       "    <tr>\n",
       "      <th>Stages</th>\n",
       "      <td>22</td>\n",
       "      <td>20</td>\n",
       "      <td>20</td>\n",
       "      <td>21</td>\n",
       "      <td>20</td>\n",
       "    </tr>\n",
       "    <tr>\n",
       "      <th>Started</th>\n",
       "      <td>120</td>\n",
       "      <td>132</td>\n",
       "      <td>189</td>\n",
       "      <td>198</td>\n",
       "      <td>198</td>\n",
       "    </tr>\n",
       "    <tr>\n",
       "      <th>Ended</th>\n",
       "      <td>88</td>\n",
       "      <td>87</td>\n",
       "      <td>115</td>\n",
       "      <td>130</td>\n",
       "      <td>170</td>\n",
       "    </tr>\n",
       "    <tr>\n",
       "      <th>Distance</th>\n",
       "      <td>4498</td>\n",
       "      <td>4090</td>\n",
       "      <td>3635</td>\n",
       "      <td>3983</td>\n",
       "      <td>3642</td>\n",
       "    </tr>\n",
       "    <tr>\n",
       "      <th>Hour</th>\n",
       "      <td>124</td>\n",
       "      <td>122</td>\n",
       "      <td>92</td>\n",
       "      <td>100</td>\n",
       "      <td>91</td>\n",
       "    </tr>\n",
       "    <tr>\n",
       "      <th>Minutes</th>\n",
       "      <td>1</td>\n",
       "      <td>25</td>\n",
       "      <td>44</td>\n",
       "      <td>49</td>\n",
       "      <td>58</td>\n",
       "    </tr>\n",
       "    <tr>\n",
       "      <th>Seconds</th>\n",
       "      <td>16</td>\n",
       "      <td>34</td>\n",
       "      <td>59</td>\n",
       "      <td>30</td>\n",
       "      <td>48</td>\n",
       "    </tr>\n",
       "    <tr>\n",
       "      <th>Pace</th>\n",
       "      <td>36.268</td>\n",
       "      <td>33.407</td>\n",
       "      <td>39.193</td>\n",
       "      <td>39.504</td>\n",
       "      <td>39.594</td>\n",
       "    </tr>\n",
       "    <tr>\n",
       "      <th>Winner</th>\n",
       "      <td>R. Walkowiak</td>\n",
       "      <td>L. Ocana</td>\n",
       "      <td>M. Indurain</td>\n",
       "      <td>M. Indurain</td>\n",
       "      <td>A. Schleck</td>\n",
       "    </tr>\n",
       "    <tr>\n",
       "      <th>Country</th>\n",
       "      <td>Fra</td>\n",
       "      <td>Esp</td>\n",
       "      <td>Esp</td>\n",
       "      <td>Esp</td>\n",
       "      <td>Lux</td>\n",
       "    </tr>\n",
       "    <tr>\n",
       "      <th>Age</th>\n",
       "      <td>29</td>\n",
       "      <td>28</td>\n",
       "      <td>31</td>\n",
       "      <td>28</td>\n",
       "      <td>25</td>\n",
       "    </tr>\n",
       "  </tbody>\n",
       "</table>\n",
       "</div>"
      ],
      "text/plain": [
       "                    42        59           81           78          96\n",
       "Year              1956      1973         1995         1992        2010\n",
       "Stages              22        20           20           21          20\n",
       "Started            120       132          189          198         198\n",
       "Ended               88        87          115          130         170\n",
       "Distance          4498      4090         3635         3983        3642\n",
       "Hour               124       122           92          100          91\n",
       "Minutes              1        25           44           49          58\n",
       "Seconds             16        34           59           30          48\n",
       "Pace            36.268    33.407       39.193       39.504      39.594\n",
       "Winner    R. Walkowiak  L. Ocana  M. Indurain  M. Indurain  A. Schleck\n",
       "Country            Fra       Esp          Esp          Esp         Lux\n",
       "Age                 29        28           31           28          25"
      ]
     },
     "execution_count": 4,
     "metadata": {},
     "output_type": "execute_result"
    }
   ],
   "source": [
    "tour_hist_df = pd.read_csv('data/2018_historical_guide.csv')\n",
    "tour_hist_df.sample(5).T"
   ]
  },
  {
   "cell_type": "code",
   "execution_count": 17,
   "id": "6e4a8d95",
   "metadata": {},
   "outputs": [
    {
     "name": "stdout",
     "output_type": "stream",
     "text": [
      "The historical TDF dataset contains 12 columns and 104 rows.\n"
     ]
    }
   ],
   "source": [
    "print('The historical TDF dataset contains ' + str(tour_hist_df.shape[1]) + ' columns and ' + str(tour_hist_df.shape[0]) + ' rows.')"
   ]
  },
  {
   "cell_type": "code",
   "execution_count": 27,
   "id": "c6de1b2c",
   "metadata": {},
   "outputs": [
    {
     "data": {
      "text/plain": [
       "Year        0\n",
       "Stages      0\n",
       "Started     0\n",
       "Ended       0\n",
       "Distance    0\n",
       "Hour        0\n",
       "Minutes     0\n",
       "Seconds     0\n",
       "Pace        0\n",
       "Winner      0\n",
       "Country     0\n",
       "Age         0\n",
       "dtype: int64"
      ]
     },
     "execution_count": 27,
     "metadata": {},
     "output_type": "execute_result"
    }
   ],
   "source": [
    "# check for nulls in columns\n",
    "tour_hist_df.isna().sum()"
   ]
  },
  {
   "cell_type": "markdown",
   "id": "f4056d8c",
   "metadata": {},
   "source": [
    "Seems like the data is clean"
   ]
  },
  {
   "cell_type": "markdown",
   "id": "bb35086e",
   "metadata": {},
   "source": [
    "#### Winner's age throughout the years at the TDF"
   ]
  },
  {
   "cell_type": "code",
   "execution_count": 101,
   "id": "62f762c0",
   "metadata": {},
   "outputs": [
    {
     "data": {
      "image/png": "[encoded data removed]",
      "text/plain": [
       "<Figure size 1080x432 with 1 Axes>"
      ]
     },
     "metadata": {
      "needs_background": "light"
     },
     "output_type": "display_data"
    }
   ],
   "source": [
    "tdf_years = tour_hist_df['Year']\n",
    "tdf_winner_age = tour_hist_df['Age']\n",
    "\n",
    "# setup\n",
    "plt.figure(figsize=(15, 6))\n",
    "\n",
    "# data\n",
    "plt.plot(tdf_years, tdf_winner_age, marker='o', linestyle='None', color='black')\n",
    "\n",
    "#labels\n",
    "plt.xlabel('Year')\n",
    "plt.ylabel(\"Winner's Age\")\n",
    "plt.grid(True)\n",
    "plt.show()"
   ]
  },
  {
   "cell_type": "markdown",
   "id": "74b2d260",
   "metadata": {},
   "source": [
    "#### Let's look at a distribution of ages at the TDF through history"
   ]
  },
  {
   "cell_type": "code",
   "execution_count": 87,
   "id": "ad473246",
   "metadata": {},
   "outputs": [
    {
     "name": "stdout",
     "output_type": "stream",
     "text": [
      "1     20\n",
      "6     21\n",
      "5     22\n",
      "7     23\n",
      "2     24\n",
      "4     25\n",
      "15    26\n",
      "3     27\n",
      "13    28\n",
      "14    29\n",
      "9     30\n",
      "11    31\n",
      "0     32\n",
      "8     33\n",
      "12    34\n",
      "10    36\n",
      "dtype: int64\n"
     ]
    }
   ],
   "source": [
    "unique_ages = pd.Series(tour_hist_df['Age'].unique()).sort_values()\n",
    "print(unique_ages)"
   ]
  },
  {
   "cell_type": "code",
   "execution_count": 69,
   "id": "b21aab2f",
   "metadata": {},
   "outputs": [
    {
     "data": {
      "text/plain": [
       "<AxesSubplot:ylabel='Frequency'>"
      ]
     },
     "execution_count": 69,
     "metadata": {},
     "output_type": "execute_result"
    },
    {
     "data": {
      "image/png": "[encoded data removed]",
      "text/plain": [
       "<Figure size 432x288 with 1 Axes>"
      ]
     },
     "metadata": {
      "needs_background": "light"
     },
     "output_type": "display_data"
    }
   ],
   "source": [
    "tour_hist_df['Age'].plot(kind='hist', edgecolor='black')"
   ]
  },
  {
   "cell_type": "markdown",
   "id": "69b8b2ca",
   "metadata": {},
   "source": [
    "#### Some more statistics on the tour de france winner's age"
   ]
  },
  {
   "cell_type": "code",
   "execution_count": 96,
   "id": "f34e5fb9",
   "metadata": {},
   "outputs": [
    {
     "name": "stdout",
     "output_type": "stream",
     "text": [
      "The average age is 28, while the minimum and maximum are 20 and 36, respectively.\n"
     ]
    }
   ],
   "source": [
    "min_age = min(tour_hist_df['Age'])\n",
    "max_age = max(tour_hist_df['Age'])\n",
    "mean_age = np.mean(tour_hist_df['Age'])\n",
    "\n",
    "print(\"The average age is \" + str(round(mean_age)) + \", while the minimum and maximum are \" + str(min_age) + \" and \" + str(max_age) + \", respectively.\")"
   ]
  },
  {
   "cell_type": "markdown",
   "id": "7c7e0ca4",
   "metadata": {},
   "source": [
    "#### Now let's look at the countries with the most wins"
   ]
  },
  {
   "cell_type": "code",
   "execution_count": 95,
   "id": "a97c72cd",
   "metadata": {},
   "outputs": [
    {
     "data": {
      "text/plain": [
       "Text(0, 0.5, 'Number of wins')"
      ]
     },
     "execution_count": 95,
     "metadata": {},
     "output_type": "execute_result"
    },
    {
     "data": {
      "image/png": "[encoded data removed]",
      "text/plain": [
       "<Figure size 1080x432 with 1 Axes>"
      ]
     },
     "metadata": {
      "needs_background": "light"
     },
     "output_type": "display_data"
    }
   ],
   "source": [
    "# get top five\n",
    "top_countries = tour_hist_df['Country'].value_counts().head(5)\n",
    "\n",
    "plt.figure(figsize=(15,6))\n",
    "top_countries.plot(kind='bar', color=['blue', 'green', 'red', 'orange', 'purple'])\n",
    "\n",
    "plt.title(\"Top 5 countries with the most Tour de France wins\")\n",
    "plt.xlabel(\"Country digit\")\n",
    "plt.ylabel(\"Number of wins\")"
   ]
  },
  {
   "cell_type": "code",
   "execution_count": 94,
   "id": "57f23226",
   "metadata": {
    "scrolled": true
   },
   "outputs": [
    {
     "data": {
      "image/png": "[encoded data removed]",
      "text/plain": [
       "<Figure size 576x576 with 1 Axes>"
      ]
     },
     "metadata": {},
     "output_type": "display_data"
    }
   ],
   "source": [
    "plt.figure(figsize=(8, 8))\n",
    "\n",
    "plt.pie(top_countries, labels=top_countries.index, autopct='%1.1f%%', startangle=90)\n",
    "plt.title(\"Top 5 countries with the most Tour de France wins\")\n",
    "plt.show()"
   ]
  },
  {
   "cell_type": "markdown",
   "id": "312ffa9c",
   "metadata": {},
   "source": [
    "#### The cycling pace tends to tell a deep story, let's take compare the pace of the winner of each stage."
   ]
  },
  {
   "cell_type": "code",
   "execution_count": 100,
   "id": "403433fb",
   "metadata": {},
   "outputs": [
    {
     "data": {
      "image/png": "[encoded data removed]",
      "text/plain": [
       "<Figure size 1080x432 with 1 Axes>"
      ]
     },
     "metadata": {
      "needs_background": "light"
     },
     "output_type": "display_data"
    }
   ],
   "source": [
    "tdf_years = tour_hist_df['Year']\n",
    "tdf_pace = tour_hist_df['Pace']\n",
    "\n",
    "# setup\n",
    "plt.figure(figsize=(15, 6))\n",
    "\n",
    "# data\n",
    "plt.plot(tdf_years, tdf_pace, marker='o', linestyle='None', color='red')\n",
    "\n",
    "#labels\n",
    "plt.title('Pace of the Tour de France winner')\n",
    "plt.xlabel('Year')\n",
    "plt.ylabel(\"Pace\")\n",
    "plt.grid(True)\n",
    "plt.show()"
   ]
  },
  {
   "cell_type": "markdown",
   "id": "c5498920",
   "metadata": {},
   "source": [
    "## Dataset 2 - TDF Stage Geo Data"
   ]
  },
  {
   "cell_type": "code",
   "execution_count": 17,
   "id": "b1f0cffe",
   "metadata": {},
   "outputs": [
    {
     "data": {
      "text/html": [
       "<div>\n",
       "<style scoped>\n",
       "    .dataframe tbody tr th:only-of-type {\n",
       "        vertical-align: middle;\n",
       "    }\n",
       "\n",
       "    .dataframe tbody tr th {\n",
       "        vertical-align: top;\n",
       "    }\n",
       "\n",
       "    .dataframe thead th {\n",
       "        text-align: right;\n",
       "    }\n",
       "</style>\n",
       "<table border=\"1\" class=\"dataframe\">\n",
       "  <thead>\n",
       "    <tr style=\"text-align: right;\">\n",
       "      <th></th>\n",
       "      <th>478</th>\n",
       "      <th>749</th>\n",
       "      <th>670</th>\n",
       "      <th>682</th>\n",
       "      <th>383</th>\n",
       "    </tr>\n",
       "  </thead>\n",
       "  <tbody>\n",
       "    <tr>\n",
       "      <th>Index</th>\n",
       "      <td>479</td>\n",
       "      <td>750</td>\n",
       "      <td>671</td>\n",
       "      <td>683</td>\n",
       "      <td>384</td>\n",
       "    </tr>\n",
       "    <tr>\n",
       "      <th>City</th>\n",
       "      <td>Molenbeek</td>\n",
       "      <td>Belfort/Ballon d�Alsace</td>\n",
       "      <td>Sedan</td>\n",
       "      <td>Piau-Engaly</td>\n",
       "      <td>Villers-sur-Mer</td>\n",
       "    </tr>\n",
       "    <tr>\n",
       "      <th>lon</th>\n",
       "      <td>4,3303277</td>\n",
       "      <td>6,8463325</td>\n",
       "      <td>4,93863</td>\n",
       "      <td>0,1588887</td>\n",
       "      <td>-0,005321</td>\n",
       "    </tr>\n",
       "    <tr>\n",
       "      <th>lat</th>\n",
       "      <td>50,8522009</td>\n",
       "      <td>47,8226946</td>\n",
       "      <td>49,70349</td>\n",
       "      <td>42,7836595</td>\n",
       "      <td>49,321744</td>\n",
       "    </tr>\n",
       "  </tbody>\n",
       "</table>\n",
       "</div>"
      ],
      "text/plain": [
       "              478                      749       670          682  \\\n",
       "Index         479                      750       671          683   \n",
       "City    Molenbeek  Belfort/Ballon d�Alsace     Sedan  Piau-Engaly   \n",
       "lon     4,3303277                6,8463325   4,93863    0,1588887   \n",
       "lat    50,8522009               47,8226946  49,70349   42,7836595   \n",
       "\n",
       "                   383  \n",
       "Index              384  \n",
       "City   Villers-sur-Mer  \n",
       "lon          -0,005321  \n",
       "lat          49,321744  "
      ]
     },
     "execution_count": 17,
     "metadata": {},
     "output_type": "execute_result"
    }
   ],
   "source": [
    "geo_stages_df = pd.read_csv('data/unique_stage_geocode.csv')\n",
    "geo_stages_df.sample(5).T"
   ]
  },
  {
   "cell_type": "markdown",
   "id": "0da0a33b",
   "metadata": {},
   "source": [
    "## Dataset 3 - TDF Stages"
   ]
  },
  {
   "cell_type": "code",
   "execution_count": 10,
   "id": "ee330893",
   "metadata": {},
   "outputs": [
    {
     "data": {
      "text/html": [
       "<div>\n",
       "<style scoped>\n",
       "    .dataframe tbody tr th:only-of-type {\n",
       "        vertical-align: middle;\n",
       "    }\n",
       "\n",
       "    .dataframe tbody tr th {\n",
       "        vertical-align: top;\n",
       "    }\n",
       "\n",
       "    .dataframe thead th {\n",
       "        text-align: right;\n",
       "    }\n",
       "</style>\n",
       "<table border=\"1\" class=\"dataframe\">\n",
       "  <thead>\n",
       "    <tr style=\"text-align: right;\">\n",
       "      <th></th>\n",
       "      <th>995</th>\n",
       "      <th>1698</th>\n",
       "      <th>969</th>\n",
       "      <th>1756</th>\n",
       "      <th>1528</th>\n",
       "    </tr>\n",
       "  </thead>\n",
       "  <tbody>\n",
       "    <tr>\n",
       "      <th>Stage</th>\n",
       "      <td>2a</td>\n",
       "      <td>5c</td>\n",
       "      <td>4</td>\n",
       "      <td>6</td>\n",
       "      <td>3</td>\n",
       "    </tr>\n",
       "    <tr>\n",
       "      <th>Date</th>\n",
       "      <td>7/2/1973</td>\n",
       "      <td>7/4/1937</td>\n",
       "      <td>7/1/1974</td>\n",
       "      <td>7/10/1935</td>\n",
       "      <td>7/6/1951</td>\n",
       "    </tr>\n",
       "    <tr>\n",
       "      <th>Distance</th>\n",
       "      <td>12.4</td>\n",
       "      <td>93.0</td>\n",
       "      <td>184.0</td>\n",
       "      <td>207.0</td>\n",
       "      <td>219.0</td>\n",
       "    </tr>\n",
       "    <tr>\n",
       "      <th>Origin</th>\n",
       "      <td>Sint-Niklaas</td>\n",
       "      <td>Champagnole</td>\n",
       "      <td>Saint-Malo</td>\n",
       "      <td>Evian</td>\n",
       "      <td>Ghent</td>\n",
       "    </tr>\n",
       "    <tr>\n",
       "      <th>Destination</th>\n",
       "      <td>Sint-Niklaas</td>\n",
       "      <td>Geneva</td>\n",
       "      <td>Caen</td>\n",
       "      <td>Aix-les-Bains</td>\n",
       "      <td>Le Tréport</td>\n",
       "    </tr>\n",
       "    <tr>\n",
       "      <th>Type</th>\n",
       "      <td>Team time trial</td>\n",
       "      <td>Plain stage</td>\n",
       "      <td>Plain stage</td>\n",
       "      <td>Stage with mountain(s)</td>\n",
       "      <td>Plain stage</td>\n",
       "    </tr>\n",
       "    <tr>\n",
       "      <th>Winner</th>\n",
       "      <td>Watney–Maes Pils</td>\n",
       "      <td>Leo Amberg</td>\n",
       "      <td>Patrick Sercu</td>\n",
       "      <td>René Vietto</td>\n",
       "      <td>Georges Meunier</td>\n",
       "    </tr>\n",
       "    <tr>\n",
       "      <th>Winner_Country</th>\n",
       "      <td>NaN</td>\n",
       "      <td>SUI</td>\n",
       "      <td>BEL</td>\n",
       "      <td>FRA</td>\n",
       "      <td>FRA</td>\n",
       "    </tr>\n",
       "  </tbody>\n",
       "</table>\n",
       "</div>"
      ],
      "text/plain": [
       "                            995          1698           969   \\\n",
       "Stage                         2a           5c              4   \n",
       "Date                    7/2/1973     7/4/1937       7/1/1974   \n",
       "Distance                    12.4         93.0          184.0   \n",
       "Origin              Sint-Niklaas  Champagnole     Saint-Malo   \n",
       "Destination         Sint-Niklaas       Geneva           Caen   \n",
       "Type             Team time trial  Plain stage    Plain stage   \n",
       "Winner          Watney–Maes Pils   Leo Amberg  Patrick Sercu   \n",
       "Winner_Country               NaN          SUI            BEL   \n",
       "\n",
       "                                  1756             1528  \n",
       "Stage                                6                3  \n",
       "Date                         7/10/1935         7/6/1951  \n",
       "Distance                         207.0            219.0  \n",
       "Origin                           Evian            Ghent  \n",
       "Destination              Aix-les-Bains       Le Tréport  \n",
       "Type            Stage with mountain(s)      Plain stage  \n",
       "Winner                     René Vietto  Georges Meunier  \n",
       "Winner_Country                     FRA              FRA  "
      ]
     },
     "execution_count": 10,
     "metadata": {},
     "output_type": "execute_result"
    }
   ],
   "source": [
    "stages_df = pd.read_csv('data/stages_TDF.csv')\n",
    "stages_df.sample(5).T"
   ]
  }
 ],
 "metadata": {
  "kernelspec": {
   "display_name": "Python 3 (ipykernel)",
   "language": "python",
   "name": "python3"
  },
  "language_info": {
   "codemirror_mode": {
    "name": "ipython",
    "version": 3
   },
   "file_extension": ".py",
   "mimetype": "text/x-python",
   "name": "python",
   "nbconvert_exporter": "python",
   "pygments_lexer": "ipython3",
   "version": "3.10.2"
  }
 },
 "nbformat": 4,
 "nbformat_minor": 5
}
