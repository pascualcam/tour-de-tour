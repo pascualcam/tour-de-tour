{
 "cells": [
  {
   "cell_type": "code",
   "execution_count": 4,
   "id": "2b5cdc52",
   "metadata": {},
   "outputs": [],
   "source": [
    "import pandas as pd\n",
    "import numpy as np"
   ]
  },
  {
   "cell_type": "code",
   "execution_count": 9,
   "id": "dc91c25b",
   "metadata": {},
   "outputs": [
    {
     "name": "stdout",
     "output_type": "stream",
     "text": [
      "<class 'pandas.core.frame.DataFrame'>\n",
      "RangeIndex: 104 entries, 0 to 103\n",
      "Data columns (total 12 columns):\n",
      " #   Column    Non-Null Count  Dtype  \n",
      "---  ------    --------------  -----  \n",
      " 0   Year      104 non-null    int64  \n",
      " 1   Stages    104 non-null    int64  \n",
      " 2   Started   104 non-null    int64  \n",
      " 3   Ended     104 non-null    int64  \n",
      " 4   Distance  104 non-null    int64  \n",
      " 5   Hour      104 non-null    int64  \n",
      " 6   Minutes   104 non-null    int64  \n",
      " 7   Seconds   104 non-null    int64  \n",
      " 8   Pace      104 non-null    float64\n",
      " 9   Winner    104 non-null    object \n",
      " 10  Country   104 non-null    object \n",
      " 11  Age       104 non-null    int64  \n",
      "dtypes: float64(1), int64(9), object(2)\n",
      "memory usage: 9.9+ KB\n"
     ]
    }
   ],
   "source": [
    "tour_df = pd.read_csv('data/2018_historical_guide.csv')\n",
    "tour_df.info()"
   ]
  }
 ],
 "metadata": {
  "kernelspec": {
   "display_name": "Python 3 (ipykernel)",
   "language": "python",
   "name": "python3"
  },
  "language_info": {
   "codemirror_mode": {
    "name": "ipython",
    "version": 3
   },
   "file_extension": ".py",
   "mimetype": "text/x-python",
   "name": "python",
   "nbconvert_exporter": "python",
   "pygments_lexer": "ipython3",
   "version": "3.10.2"
  }
 },
 "nbformat": 4,
 "nbformat_minor": 5
}
